{
 "cells": [
  {
   "cell_type": "code",
   "execution_count": 41,
   "metadata": {},
   "outputs": [],
   "source": [
    "import pandas as pd\n",
    "import numpy as np\n",
    "from pathlib import Path\n",
    "import datetime as dt"
   ]
  },
  {
   "cell_type": "markdown",
   "metadata": {},
   "source": [
    "### Correção do nome do ACOMPH de acordo com a data"
   ]
  },
  {
   "cell_type": "code",
   "execution_count": 42,
   "metadata": {},
   "outputs": [],
   "source": [
    "\n",
    "def corrige_local_acomph():\n",
    "    #Path é uma função da biblioteca padrão do Python pathlib que acha os diretórios próprios para\n",
    "    #o sistema operacional em que o programa roda\n",
    "    local_acomph = Path(\"in_excel/acomph\")\n",
    "    data = get_data()\n",
    "    #Variável para armazenar o nome do arquivo corrigido\n",
    "    acomph = \"ACOMPH_\"+data+\".xls\"\n",
    "    #Concatenação do diretório com o nome do arquivo com o operador / do pathlib\n",
    "    local_acomph_ret = local_acomph / acomph\n",
    "    return local_acomph_ret"
   ]
  },
  {
   "cell_type": "markdown",
   "metadata": {},
   "source": [
    "### Ajuste da formatação de data"
   ]
  },
  {
   "cell_type": "code",
   "execution_count": 43,
   "metadata": {},
   "outputs": [],
   "source": [
    "def get_data():\n",
    "    data = dt.datetime.today()\n",
    "    dia = data.day\n",
    "    #Condicional que coloca o 0 de corno que tem em toda planilha\n",
    "    if dia<10:\n",
    "        dia = '0' + str(dia)\n",
    "    dia = str(dia)\n",
    "    mes = data.month\n",
    "    if mes<10:\n",
    "        mes = '0' + str(mes)\n",
    "    mes = str(mes)\n",
    "    ano = str(data.year)\n",
    "    data = dia+'.'+mes+'.'+ano\n",
    "    return data\n"
   ]
  },
  {
   "cell_type": "markdown",
   "metadata": {},
   "source": [
    "### Função de importação do arquivo do ACCOMPH"
   ]
  },
  {
   "cell_type": "code",
   "execution_count": 44,
   "metadata": {},
   "outputs": [],
   "source": [
    "def importa_planilha():\n",
    "    #Cria dicionário com todas as bacias separadas por nome\n",
    "    bacias = {}\n",
    "    local = corrige_local_acomph()\n",
    "    planilha = pd.ExcelFile(local)\n",
    "    #Criação de vários DataFrames no dicionário, cada um com uma bacia\n",
    "    for aba in planilha.sheet_names:\n",
    "        bacias[aba] = planilha.parse(aba)\n",
    "    return bacias"
   ]
  },
  {
   "cell_type": "markdown",
   "metadata": {},
   "source": [
    "### Filtragem dos dados: só temos vazões naturais e postos!"
   ]
  },
  {
   "cell_type": "code",
   "execution_count": 45,
   "metadata": {},
   "outputs": [],
   "source": [
    "def trata():\n",
    "    i=1\n",
    "    bacias = importa_planilha()\n",
    "    for x in bacias:\n",
    "        #Retira linhas que estão incompletas\n",
    "        bacias[x].dropna(inplace=True)\n",
    "        #Renomeia a coluna de datas\n",
    "        bacias[x].rename(columns={'Unnamed: 0':'Data'}, inplace=True)\n",
    "        #Define o índice das linhas como a data\n",
    "        bacias[x].set_index('Data',inplace=True)\n",
    "        #Trasnposição do dataframe: agora as linhas são identificadas pelo posto\n",
    "        bacias[x] = bacias[x].T\n",
    "        #Importação de todos os índices. A maior bacia em 153 linhas\n",
    "        titulos = bacias[x].head(154)\n",
    "        for linha in titulos.index:\n",
    "            #A coluna de vazão natura é a mesma em que consta os postos e é sempre um múltiplo de 8\n",
    "            #Todas as outras são irrelevantes e destruídas\n",
    "            if i%8 != 0:\n",
    "                bacias[x].drop(linha, inplace=True)\n",
    "            i+=1\n",
    "            bacias[x].index.names = ['Posto']\n",
    "    return bacias\n"
   ]
  },
  {
   "cell_type": "markdown",
   "metadata": {},
   "source": [
    "### Exporta a planilha tratada pra CSV"
   ]
  },
  {
   "cell_type": "code",
   "execution_count": 46,
   "metadata": {},
   "outputs": [],
   "source": [
    "def ex_final():\n",
    "    df = trata()\n",
    "    #A mesma biblioteca pathlib é usada para garantir portabilidade entre SO\n",
    "    local_csv = Path(\"ex_csv/acomph\")\n",
    "    for x in df:\n",
    "        #Os CSV são ordenados por data e ordem alfabética\n",
    "        nome_csv = \"acomph_\"+x+\".csv\"\n",
    "        caminho = local_csv / nome_csv\n",
    "        df[x].to_csv(caminho)"
   ]
  },
  {
   "cell_type": "code",
   "execution_count": 47,
   "metadata": {},
   "outputs": [],
   "source": [
    "ex_final()"
   ]
  },
  {
   "cell_type": "code",
   "execution_count": null,
   "metadata": {},
   "outputs": [],
   "source": []
  }
 ],
 "metadata": {
  "kernelspec": {
   "display_name": "Python 3",
   "language": "python",
   "name": "python3"
  },
  "language_info": {
   "codemirror_mode": {
    "name": "ipython",
    "version": 3
   },
   "file_extension": ".py",
   "mimetype": "text/x-python",
   "name": "python",
   "nbconvert_exporter": "python",
   "pygments_lexer": "ipython3",
   "version": "3.7.3"
  }
 },
 "nbformat": 4,
 "nbformat_minor": 2
}
