{
 "cells": [
  {
   "cell_type": "code",
   "execution_count": 3,
   "metadata": {},
   "outputs": [],
   "source": [
    "import pandas as pd\n",
    "import numpy as np\n",
    "from pathlib import Path"
   ]
  },
  {
   "cell_type": "markdown",
   "metadata": {},
   "source": [
    "### Importação das Regressões Semanais"
   ]
  },
  {
   "cell_type": "code",
   "execution_count": 4,
   "metadata": {},
   "outputs": [],
   "source": [
    "def importa_planilha():\n",
    "    local_regress = Path(\"in_excel/regressao/Regressões_PMO_2019.xls\")\n",
    "    df = pd.ExcelFile(local_regress)\n",
    "    regress =  df.parse(\"Correlações_Semanais\", header=4)\n",
    "    return regress"
   ]
  },
  {
   "cell_type": "markdown",
   "metadata": {},
   "source": [
    "### Retira colunas sem dados relevantes e renomeia pro csv ficar bonitinho"
   ]
  },
  {
   "cell_type": "code",
   "execution_count": 5,
   "metadata": {},
   "outputs": [],
   "source": [
    "def trata_planilha():\n",
    "    df = importa_planilha()\n",
    "    df.drop('Unnamed: 17',axis=1, inplace=True)\n",
    "    df.dropna(inplace=True)\n",
    "    df.rename(columns={'Código':'Posto'}, inplace=True)\n",
    "    df.set_index('Posto', inplace=True)\n",
    "    df.drop(['Aproveitamento','Aproveitamento.1','Código.1','Unnamed: 3','Unnamed: 4','Unnamed: 21','Unnamed: 22'], axis=1, inplace=True)\n",
    "    return df"
   ]
  },
  {
   "cell_type": "markdown",
   "metadata": {},
   "source": [
    "### Coloca as relações de data e posto em um DataFrame pra A0 separado de A1"
   ]
  },
  {
   "cell_type": "code",
   "execution_count": 6,
   "metadata": {},
   "outputs": [],
   "source": [
    "def separa_a0_a1():\n",
    "    df = trata_planilha()\n",
    "    df.drop(['Unnamed: 0','Unnamed: 18'], axis=1, inplace=True)\n",
    "    a0 = df.iloc[:,0:12].copy()\n",
    "    a1 = df.iloc[:,12:25].copy()\n",
    "    for i in range(1,13):\n",
    "        a1.rename(columns={(str(i)+'.1') : str(i)}, inplace=True)\n",
    "    return a0, a1"
   ]
  },
  {
   "cell_type": "markdown",
   "metadata": {},
   "source": [
    "### Cria um arquivo CSV para cada DF criado anteriormente"
   ]
  },
  {
   "cell_type": "code",
   "execution_count": 7,
   "metadata": {},
   "outputs": [],
   "source": [
    "def exporta_csv():\n",
    "    a0, a1 = separa_a0_a1()\n",
    "    local_a0 = Path(\"ex_csv/regressao/Regressão_A0.csv\")\n",
    "    local_a1 = Path(\"ex_csv/regressao/Regressão_A1.csv\")\n",
    "    a0.to_csv(local_a0)\n",
    "    a1.to_csv(local_a1)"
   ]
  },
  {
   "cell_type": "code",
   "execution_count": 8,
   "metadata": {},
   "outputs": [],
   "source": [
    "exporta_csv()"
   ]
  },
  {
   "cell_type": "code",
   "execution_count": null,
   "metadata": {},
   "outputs": [],
   "source": []
  }
 ],
 "metadata": {
  "kernelspec": {
   "display_name": "Python 3",
   "language": "python",
   "name": "python3"
  },
  "language_info": {
   "codemirror_mode": {
    "name": "ipython",
    "version": 3
   },
   "file_extension": ".py",
   "mimetype": "text/x-python",
   "name": "python",
   "nbconvert_exporter": "python",
   "pygments_lexer": "ipython3",
   "version": "3.7.3"
  }
 },
 "nbformat": 4,
 "nbformat_minor": 2
}
