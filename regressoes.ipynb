{
 "cells": [
  {
   "cell_type": "code",
   "execution_count": 76,
   "metadata": {},
   "outputs": [],
   "source": [
    "import pandas as pd\n",
    "import numpy as np\n",
    "import trata_acomph\n",
    "from pathlib import Path\n",
    "import mysql.connector as mdb"
   ]
  },
  {
   "cell_type": "code",
   "execution_count": 77,
   "metadata": {},
   "outputs": [],
   "source": [
    "def importa_arquivos():\n",
    "    loc = Path('ex_csv/regressao')\n",
    "    loc_a0 = loc / 'Regressão_A0.csv'\n",
    "    loc_a1 = loc / 'Regressão_A1.csv'\n",
    "    a0 = pd.read_csv(loc_a0, index_col=0)\n",
    "    a1 = pd.read_csv(loc_a1, index_col=0)\n",
    "    "
   ]
  }
 ],
 "metadata": {
  "kernelspec": {
   "display_name": "Python 3",
   "language": "python",
   "name": "python3"
  },
  "language_info": {
   "codemirror_mode": {
    "name": "ipython",
    "version": 3
   },
   "file_extension": ".py",
   "mimetype": "text/x-python",
   "name": "python",
   "nbconvert_exporter": "python",
   "pygments_lexer": "ipython3",
   "version": "3.7.3"
  }
 },
 "nbformat": 4,
 "nbformat_minor": 2
}
