{
 "cells": [
  {
   "cell_type": "code",
   "execution_count": 1,
   "metadata": {},
   "outputs": [],
   "source": [
    "from tratamento import trata_acomph\n",
    "import pandas as pd\n",
    "import numpy as np\n",
    "from datetime import date, timedelta"
   ]
  },
  {
   "cell_type": "code",
   "execution_count": 2,
   "metadata": {},
   "outputs": [],
   "source": [
    "def importa_acomph():\n",
    "    trata_acomph.ex_final()\n",
    "    acomph = trata_acomph.get_csv()\n",
    "    return acomph"
   ]
  },
  {
   "cell_type": "code",
   "execution_count": 3,
   "metadata": {},
   "outputs": [],
   "source": [
    "def vazao_posto(posto):\n",
    "    acomph = importa_acomph()\n",
    "    return acomph.loc[posto,:]"
   ]
  },
  {
   "cell_type": "code",
   "execution_count": 4,
   "metadata": {},
   "outputs": [],
   "source": [
    "def posto_37():\n",
    "    #37 t)= 237(t) – 0,1 x [161(t) – 117(t) – 118 (t)] – 117 (t) – 118(t)\n",
    "    vazao_posto_37 = vazao_posto(237) - 0.1 * (vazao_posto(161) - vazao_posto(117) - vazao_posto(118)) - vazao_posto(117) - vazao_posto(118)\n",
    "    return vazao_posto_37"
   ]
  },
  {
   "cell_type": "code",
   "execution_count": 5,
   "metadata": {},
   "outputs": [],
   "source": [
    "def posto_38():\n",
    "    #38(t) = 238(t) – 0,1 x [161(t) – 117(t) – 118(t)] – 117(t) – 118(t)  \n",
    "    vazao_posto_38 = vazao_posto(238) - 0.1 * (vazao_posto(161) - vazao_posto(117) - vazao_posto(118)) - vazao_posto(117) - vazao_posto(118)\n",
    "    return vazao_posto_38"
   ]
  },
  {
   "cell_type": "code",
   "execution_count": 6,
   "metadata": {},
   "outputs": [],
   "source": [
    "def posto_39():\n",
    "    #39(t) = 239(t) – 0,1 x [161(t) – 117(t) – 118(t)] – 117(t) – 118(t) \n",
    "    vazao_posto_39 = vazao_posto(239) - 0.1 * (vazao_posto(161) - vazao_posto(117) - vazao_posto(118)) - vazao_posto(117) - vazao_posto(118)\n",
    "    return vazao_posto_39"
   ]
  },
  {
   "cell_type": "code",
   "execution_count": 7,
   "metadata": {},
   "outputs": [],
   "source": [
    "def posto_40():\n",
    "    #40(t) = 240(t) – 0,1 x [161(t) – 117(t) – 118(t)] – 117(t) – 118(t)\n",
    "    vazao_posto_40 = vazao_posto(240) - 0.1 * (vazao_posto(161) - vazao_posto(117) - vazao_posto(118)) - vazao_posto(117) - vazao_posto(118)\n",
    "    return vazao_posto_40"
   ]
  },
  {
   "cell_type": "code",
   "execution_count": 8,
   "metadata": {},
   "outputs": [],
   "source": [
    "def posto_42():\n",
    "    #42(t) = 242(t) – 0,1 x [161(t) – 117(t) – 118(t)] – 117(t) – 118(t)\n",
    "    vazao_posto_42 = vazao_posto(242) - 0.1 * (vazao_posto(161) - vazao_posto(117) - vazao_posto(118)) - vazao_posto(117) - vazao_posto(118)\n",
    "    return vazao_posto_42"
   ]
  },
  {
   "cell_type": "code",
   "execution_count": 9,
   "metadata": {},
   "outputs": [],
   "source": [
    "def posto_43():\n",
    "    #43(t) = 243(t) – 0,1 x [161(t) – 117(t) – 118(t)] – 117(t) – 118(t)\n",
    "    vazao_posto_43 = vazao_posto(243) - 0.1 * (vazao_posto(161) - vazao_posto(117) - vazao_posto(118)) - vazao_posto(117) - vazao_posto(118)\n",
    "    return vazao_posto_43"
   ]
  },
  {
   "cell_type": "code",
   "execution_count": 10,
   "metadata": {},
   "outputs": [],
   "source": [
    "def posto_45():\n",
    "    #45(t) = 245(t) – 0,1 x [161(t) – 117(t) – 118(t)] – 117(t) – 118(t)\n",
    "    vazao_posto_45 = vazao_posto(245) - 0.1 * (vazao_posto(161) - vazao_posto(117) - vazao_posto(118)) - vazao_posto(117) - vazao_posto(118)\n",
    "    return vazao_posto_45"
   ]
  },
  {
   "cell_type": "code",
   "execution_count": 11,
   "metadata": {},
   "outputs": [],
   "source": [
    "def posto_46():\n",
    "    #46(t) = 246(t) – 0,1 x [161(t) – 117(t) – 118(t)] – 117(t) – 118(t)   \n",
    "    vazao_posto_46 = vazao_posto(246) - 0.1 * (vazao_posto(161) - vazao_posto(117) - vazao_posto(118)) - vazao_posto(117) - vazao_posto(118)\n",
    "    return vazao_posto_46"
   ]
  },
  {
   "cell_type": "code",
   "execution_count": 12,
   "metadata": {},
   "outputs": [],
   "source": [
    "def posto_66():\n",
    "    #66(t) = 266(t) – 0,1 x [161(t) – 117(t) – 118(t)] – 117(t) – 118(t) \n",
    "    #66(t) = 266(t) -0,1x161(t) - 0,9x117(t) - 0,9x118(t) \n",
    "    vazao_posto_66 = vazao_posto(266) - 0.1 * vazao_posto(161) - 0.9 * vazao_posto(117) - 0.9 * vazao_posto(118)\n",
    "    return vazao_posto_66"
   ]
  },
  {
   "cell_type": "code",
   "execution_count": 13,
   "metadata": {},
   "outputs": [],
   "source": [
    "def posto_75():\n",
    "    #75(t) = 76(t) + min[73(t) – 10 m³/s ;173,5 m³/s]\n",
    "    vazao_posto_75 = vazao_posto(76)\n",
    "    for i in range(30):\n",
    "        vazao_posto_75.iloc[i] = vazao_posto(76).iloc[i] + min(vazao_posto(73).iloc[i] - 10, 173)\n",
    "    return vazao_posto_75"
   ]
  },
  {
   "cell_type": "code",
   "execution_count": 14,
   "metadata": {},
   "outputs": [],
   "source": [
    "def posto_126():\n",
    "    #Se 127(t) ≤ 430m³/s → 126(t) = máx[0; 127(t) - 90] Se 127(t) > 430m³/s → 126(t) = 340 m³/s\n",
    "    vazao_posto_126 = vazao_posto(266)\n",
    "    for i in range(30):\n",
    "        if(posto_127().iloc[i] <= 430):\n",
    "            vazao_posto_126.iloc[i] = max(0, posto_127().iloc[i] - 90)\n",
    "        else:\n",
    "            vazao_posto_126.iloc[i] = 340\n",
    "    return vazao_posto_126"
   ]
  },
  {
   "cell_type": "code",
   "execution_count": 15,
   "metadata": {},
   "outputs": [],
   "source": [
    "def posto_127():\n",
    "    #127(t) = 129(t) – 298(t) – 203(t) + 304(t)\n",
    "    vazao_posto_127 = vazao_posto(129) - posto_298() - vazao_posto(203) + vazao_posto(304)\n",
    "    return vazao_posto_127"
   ]
  },
  {
   "cell_type": "code",
   "execution_count": 16,
   "metadata": {},
   "outputs": [],
   "source": [
    "def posto_131():\n",
    "    #131(t) = min[316(t) ; 144 m³/s]\n",
    "    vazao_posto_131 = posto_316()\n",
    "    for i in range(30):\n",
    "        vazao_posto_131.iloc[i] = min(posto_316().iloc[i], 144)\n",
    "    return vazao_posto_131"
   ]
  },
  {
   "cell_type": "code",
   "execution_count": 17,
   "metadata": {},
   "outputs": [],
   "source": [
    "def posto_132():\n",
    "    #132 (t) = 202 (t) + mín [201 (t);25]\n",
    "    for i in range(30):\n",
    "        vazao_posto_132.iloc[i] = vazao_posto(202).iloc[i] + min(vazao_posto(201).iloc[i], 25)\n",
    "    return vazao_posto_132"
   ]
  },
  {
   "cell_type": "code",
   "execution_count": 18,
   "metadata": {},
   "outputs": [],
   "source": [
    "def posto_176():\n",
    "    vazao_posto_176 = vazao_posto(172)\n",
    "    return"
   ]
  },
  {
   "cell_type": "code",
   "execution_count": 19,
   "metadata": {},
   "outputs": [],
   "source": [
    "def posto_285():\n",
    "    #285(t) = 0,985*287(t)\n",
    "    vazao_posto_285 = 0.985 * vazao_posto(287)\n",
    "    return vazao_posto_285"
   ]
  },
  {
   "cell_type": "code",
   "execution_count": 20,
   "metadata": {},
   "outputs": [],
   "source": [
    "def posto_292():\n",
    "    #Se 288(t) ≤ 1600m³/s     →   292(t) = 0\n",
    "    #Se 288(t) > 1600m³/s     →   \n",
    "        #Se  288(t) ≤ (X+13900) m³/s    →    292(t) = 288(t) - X  m³/s   \n",
    "        #Se 288(t) > (X+13900) m³/s → 292(t) = 13900  m³/s\n",
    "    vazao_base = 0\n",
    "    vazao_posto_292 = vazao_posto(288)\n",
    "    for i in range(30):\n",
    "        mes = (date.today()-timedelta(days = 30-i)).month\n",
    "        if (mes == 1): vazao_base = 1100\n",
    "        elif (mes == 2): vazao_base = 1600\n",
    "        elif (mes == 3): vazao_base = 4000\n",
    "        elif (mes == 4): vazao_base = 8000\n",
    "        elif (mes == 5): vazao_base = 4000\n",
    "        elif (mes == 6): vazao_base = 2000\n",
    "        elif (mes == 7): vazao_base = 1200\n",
    "        elif (mes == 8): vazao_base = 900\n",
    "        elif (mes == 9): vazao_base = 750\n",
    "        elif (mes == 10): vazao_base = 700\n",
    "        elif (mes == 11): vazao_base = 800\n",
    "        elif (mes == 12): vazao_base = 900\n",
    "        \n",
    "        if(vazao_posto(288).iloc[i] <= vazao_base):\n",
    "            vazao_posto_292.iloc[i] = 0\n",
    "        else:\n",
    "            if(vazao_posto(288) <= vazao_base + 13900): vazao_posto_292.iloc[i] = vazao_posto(288).iloc[i] - vazao_base\n",
    "            else: vazao_posto_292.iloc[i] = 13900\n",
    "    return vazao_posto_292"
   ]
  },
  {
   "cell_type": "code",
   "execution_count": 21,
   "metadata": {},
   "outputs": [],
   "source": [
    "def posto_298():\n",
    "    #Se 125(t) ≤ 190m³/s → 298(t) = [125(t) x 119]/190 \n",
    "    #Se 190 < 125(t) ≤  209 → 298(t) = 119 m³/s     \n",
    "    #Se 209 < 125(t) ≤  250 → 298(t) = 125(t) - 90 m³/s\n",
    "    #Se 125(t) > 250 → 298(t) = 160 m³/s \n",
    "    vazao_posto_298 = vazao_posto(76)\n",
    "    for i in range(30):\n",
    "        if(vazao_posto(125).iloc[i] <= 190): vazao_posto_298.iloc[i] = (vazao_posto(125).iloc[i] * 119) / 190\n",
    "        elif(vazao_posto(125).iloc[i] <= 209): vazao_posto_298.iloc[i] = 119\n",
    "        elif(vazao_posto(125).iloc[i] <= 250): vazao_posto_298.iloc[i] = vazao_posto(125).iloc[i] - 90\n",
    "        elif(vazao_posto(125).iloc[i] > 250): vazao_posto_298.iloc[i] = 160\n",
    "    return vazao_posto_298"
   ]
  },
  {
   "cell_type": "code",
   "execution_count": 22,
   "metadata": {},
   "outputs": [],
   "source": [
    "def posto_299():\n",
    "    #299(t) = 130(t) – 298(t) + 304(t)\n",
    "    vazao_posto_299 = vazao_posto(130) - posto_298() + posto_304()\n",
    "    return vazao_posto_299"
   ]
  },
  {
   "cell_type": "code",
   "execution_count": 23,
   "metadata": {},
   "outputs": [],
   "source": [
    "def posto_303():\n",
    "    #303 (t) = 132 (t) + mín [316 (t)- 131(t);51]\n",
    "    vazao_posto_303 = posto_132()\n",
    "    for i in range(30):\n",
    "        vazao_posto_303.iloc[i] = posto_132().iloc[i] + min(posto_316().iloc[i] - posto_131.iloc[i], 51)\n",
    "    return vazao_posto_303"
   ]
  },
  {
   "cell_type": "code",
   "execution_count": 24,
   "metadata": {},
   "outputs": [],
   "source": [
    "def posto_304():\n",
    "    #304(t) = 315(t) - 316(t)\n",
    "    vazao_posto_304 = posto_315() - posto_316()\n",
    "    return vazao_posto_304"
   ]
  },
  {
   "cell_type": "code",
   "execution_count": 25,
   "metadata": {},
   "outputs": [],
   "source": [
    "def posto_306():\n",
    "    #306 (t) = 303(t)+131(t)\n",
    "    vazao_posto_306 = posto_303() + posto_131()\n",
    "    return vazao_posto_306"
   ]
  },
  {
   "cell_type": "code",
   "execution_count": 26,
   "metadata": {},
   "outputs": [],
   "source": [
    "def posto_315():\n",
    "    #315(t) = 203(t) – 201(t) + 317(t) + 298(t)\n",
    "    vazao_posto_315 = vazao_posto(203) - vazao_posto(201) + posto_317() + posto_298()\n",
    "    return vazao_posto_315"
   ]
  },
  {
   "cell_type": "code",
   "execution_count": 27,
   "metadata": {},
   "outputs": [],
   "source": [
    "def posto_316():\n",
    "    #316(t) = min[315(t); 190 m³/s]\n",
    "    vazao_posto_316 = posto_315()\n",
    "    for i in range(30):\n",
    "        vazao_posto_316.iloc[i] = min(posto_315.iloc[i], 190)\n",
    "    return vazao_posto_316"
   ]
  },
  {
   "cell_type": "code",
   "execution_count": 28,
   "metadata": {},
   "outputs": [],
   "source": [
    "def posto_317():\n",
    "    #317(t) = max[ 0; (201(t) – 25 m³/s]\n",
    "    vazao_posto_317 = vazao_posto(201)\n",
    "    for i in range(30):\n",
    "        vazao_posto_317 = max(0, vazao_posto(201) - 25)\n",
    "    return vazao_posto_317"
   ]
  },
  {
   "cell_type": "code",
   "execution_count": 29,
   "metadata": {},
   "outputs": [],
   "source": [
    "def posto_318():\n",
    "    #318(t) = 116(t) + 117(t) + 118(t) + 0,1*[161(t) - 117(t) - 118(t)]\n",
    "    vazao_posto_318 = vazao_posto(116) + vazao_posto(117) + vazao_posto(118) + 0.1 * (vazao_posto(161) - vazao_posto(117) - vazao_posto(118))\n",
    "    return vazao_posto_318"
   ]
  }
 ],
 "metadata": {
  "kernelspec": {
   "display_name": "Python 3",
   "language": "python",
   "name": "python3"
  },
  "language_info": {
   "codemirror_mode": {
    "name": "ipython",
    "version": 3
   },
   "file_extension": ".py",
   "mimetype": "text/x-python",
   "name": "python",
   "nbconvert_exporter": "python",
   "pygments_lexer": "ipython3",
   "version": "3.7.3"
  }
 },
 "nbformat": 4,
 "nbformat_minor": 2
}
