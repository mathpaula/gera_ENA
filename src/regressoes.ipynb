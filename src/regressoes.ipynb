{
 "cells": [
  {
   "cell_type": "code",
   "execution_count": 275,
   "metadata": {},
   "outputs": [],
   "source": [
    "import pandas as pd\n",
    "import numpy as np\n",
    "from datetime import date, timedelta\n",
    "from pathlib import Path\n",
    "from tratamento import trata_acomph, a0_a1"
   ]
  },
  {
   "cell_type": "code",
   "execution_count": 276,
   "metadata": {},
   "outputs": [],
   "source": [
    "def get_prod():\n",
    "    loc = Path('../ex_csv/produtibilidades/prod.csv')\n",
    "    prod = pd.read_csv(loc, index_col=0)\n",
    "    for i,row in prod.head(154).iterrows():\n",
    "        row['prod'] = row['prod'].replace(\",\",\".\")\n",
    "        row['prod'] = float(row['prod'])\n",
    "    return prod"
   ]
  },
  {
   "cell_type": "code",
   "execution_count": 277,
   "metadata": {},
   "outputs": [],
   "source": [
    "def importa_arquivos():\n",
    "    acomph = trata_acomph.get_csv()\n",
    "    produtibilidade = get_prod()\n",
    "    a0, a1 = a0_a1.get_csv()\n",
    "    local = Path('../ex_csv')\n",
    "    local_post = local / 'postos.csv'\n",
    "    postos = pd.read_csv(local_post, index_col=0)\n",
    "    return acomph, a0, a1, postos, produtibilidade"
   ]
  },
  {
   "cell_type": "code",
   "execution_count": 278,
   "metadata": {},
   "outputs": [],
   "source": [
    "def get_datas():\n",
    "    meses = []\n",
    "    for i in range(1,31):\n",
    "        meses = [((date.today()-timedelta(days=i)).month)] + meses\n",
    "    return meses"
   ]
  },
  {
   "cell_type": "code",
   "execution_count": 279,
   "metadata": {},
   "outputs": [],
   "source": [
    "def trata_vazoes_base(acomph, a1):\n",
    "    vazoes_base = acomph.loc[a1.iloc[:,0], :]\n",
    "    vazoes_base.reset_index(inplace=True)\n",
    "    base = a1.reset_index()\n",
    "    indice = base.loc[:,'posto']\n",
    "    vazoes_base.insert(0, \"ind\", indice, allow_duplicates=True)\n",
    "    vazoes_base.drop('posto', axis=1, inplace=True)\n",
    "    vazoes_base.rename(columns={'ind':'posto'}, inplace=True)\n",
    "    vazoes_base.set_index('posto', inplace=True)\n",
    "    vazoes_base.dropna(inplace=True)\n",
    "    return vazoes_base"
   ]
  },
  {
   "cell_type": "code",
   "execution_count": 280,
   "metadata": {},
   "outputs": [],
   "source": [
    "def cria_ena():\n",
    "    acomph, a0, a1, postos, produtibilidades = importa_arquivos()\n",
    "    ind = acomph.head(155).index\n",
    "    col = (acomph.T).head(30).index\n",
    "    ena = pd.DataFrame(0,index = ind, columns = col)\n",
    "    ena = ena.add(ena_tipo_0(ena,acomph,produtibilidades,postos), fill_value = 0)\n",
    "    ena = ena.add(ena_tipo_1(ena,acomph,produtibilidades,postos,a0,a1), fill_value = 0)\n",
    "    return ena"
   ]
  },
  {
   "cell_type": "code",
   "execution_count": 281,
   "metadata": {},
   "outputs": [],
   "source": [
    "def ena_tipo_0(ena, acomph, produtibilidades, postos):\n",
    "    vazoes_tipo0 = acomph.join(postos.query('tipo==0'),\n",
    "                               on = 'posto', how = 'inner')\n",
    "    vazoes_tipo0.drop(['nome','bacia','ree','sub_mer','tipo'],\n",
    "                      axis=1, inplace=True)\n",
    "    produtibilidade_tipo0 = produtibilidades.join(postos.query('tipo==0'),\n",
    "                                                  on = 'posto', how = 'inner')\n",
    "    produtibilidade_tipo0.drop(['nome','bacia','ree','sub_mer','tipo'], axis=1, inplace=True)\n",
    "    for i in range(30):\n",
    "        ena_dia = vazoes_tipo0.iloc[:,i].multiply(produtibilidade_tipo0['prod'], fill_value=0)\n",
    "        ena.iloc[:,i] = ena.iloc[:,i].add(ena_dia, fill_value = 0)\n",
    "    return ena"
   ]
  },
  {
   "cell_type": "code",
   "execution_count": 282,
   "metadata": {},
   "outputs": [],
   "source": [
    "def ena_tipo_1(ena, acomph, produtibilidades, postos, a0, a1):\n",
    "    meses = get_datas()\n",
    "    vazoes_tipo1 = acomph.join(postos.query('tipo==1'),\n",
    "                               on = 'posto', how = 'inner')\n",
    "    vazoes_tipo1.drop(['nome','bacia','ree','sub_mer','tipo'],\n",
    "                      axis=1, inplace=True)\n",
    "    produtibilidade_tipo1 = produtibilidades.join(postos.query('tipo==1'),\n",
    "                                                 on='posto', how='inner')\n",
    "    produtibilidade_tipo1.drop(['nome','bacia','ree','sub_mer','tipo'],\n",
    "                              axis=1, inplace=True)\n",
    "    vazoes_base = trata_vazoes_base(acomph, a1)\n",
    "    for i in range(30):\n",
    "        A0 = a0.iloc[:,meses[i]]\n",
    "        A1 = a1.iloc[:,meses[i]]\n",
    "        X = vazoes_base.iloc[:,i]\n",
    "        Y = A0 + (A1*X)\n",
    "        ena_dia = Y.multiply(produtibilidade_tipo1['prod'], fill_value=0)\n",
    "        ena.iloc[:,i] = ena.iloc[:,i].add(ena_dia, fill_value = 0)\n",
    "    return ena"
   ]
  },
  {
   "cell_type": "code",
   "execution_count": 287,
   "metadata": {
    "scrolled": true
   },
   "outputs": [
    {
     "data": {
      "text/plain": [
       "<matplotlib.axes._subplots.AxesSubplot at 0x7fb31f4f39e8>"
      ]
     },
     "execution_count": 287,
     "metadata": {},
     "output_type": "execute_result"
    },
    {
     "data": {
      "image/png": "[encoded data removed]",
      "text/plain": [
       "<Figure size 432x288 with 1 Axes>"
      ]
     },
     "metadata": {
      "needs_background": "light"
     },
     "output_type": "display_data"
    }
   ],
   "source": [
    "e = cria_ena()\n",
    "e.loc[134,:].plot()"
   ]
  },
  {
   "cell_type": "code",
   "execution_count": null,
   "metadata": {},
   "outputs": [],
   "source": []
  }
 ],
 "metadata": {
  "kernelspec": {
   "display_name": "Python 3",
   "language": "python",
   "name": "python3"
  },
  "language_info": {
   "codemirror_mode": {
    "name": "ipython",
    "version": 3
   },
   "file_extension": ".py",
   "mimetype": "text/x-python",
   "name": "python",
   "nbconvert_exporter": "python",
   "pygments_lexer": "ipython3",
   "version": "3.7.3"
  }
 },
 "nbformat": 4,
 "nbformat_minor": 2
}
