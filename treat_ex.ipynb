{
 "cells": [
  {
   "cell_type": "code",
   "execution_count": 5,
   "metadata": {},
   "outputs": [],
   "source": [
    "import pandas as pd\n",
    "import numpy as np\n",
    "import matplotlib.pyplot as plt\n",
    "from pathlib import Path"
   ]
  },
  {
   "cell_type": "code",
   "execution_count": 6,
   "metadata": {},
   "outputs": [],
   "source": [
    "def corrige_local_acomph():\n",
    "    local_acomph = Path(\"in_ex/accomph\")\n",
    "    print(\"Digite a data que consta no nome da planilha ACCOMPH:\")\n",
    "    dia = input('Dia: ')\n",
    "    mes = input('Mês: ')\n",
    "    ano = input('Ano: ')\n",
    "    data = dia+'.'+mes+'.'+ano\n",
    "    acomph = \"ACOMPH_\"+data+\".xls\"\n",
    "    local_acomph_ret = local_acomph / acomph\n",
    "    return local_acomph_ret"
   ]
  },
  {
   "cell_type": "code",
   "execution_count": 7,
   "metadata": {},
   "outputs": [
    {
     "name": "stdout",
     "output_type": "stream",
     "text": [
      "Digite a data que consta no nome da planilha ACCOMPH:\n",
      "Dia: 03\n",
      "Mês: 10\n",
      "Ano: 2019\n",
      "in_ex/accomph/ACOMPH_03.10.2019.xls\n"
     ]
    }
   ],
   "source": [
    "acomph = corrige_local_acomph()\n",
    "print(acomph)"
   ]
  }
 ],
 "metadata": {
  "kernelspec": {
   "display_name": "Python 3",
   "language": "python",
   "name": "python3"
  },
  "language_info": {
   "codemirror_mode": {
    "name": "ipython",
    "version": 3
   },
   "file_extension": ".py",
   "mimetype": "text/x-python",
   "name": "python",
   "nbconvert_exporter": "python",
   "pygments_lexer": "ipython3",
   "version": "3.7.3"
  }
 },
 "nbformat": 4,
 "nbformat_minor": 2
}
