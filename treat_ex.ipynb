{
 "cells": [
  {
   "cell_type": "code",
   "execution_count": 1,
   "metadata": {},
   "outputs": [],
   "source": [
    "import pandas as pd\n",
    "import numpy as np\n",
    "import matplotlib.pyplot as plt\n",
    "from pathlib import Path"
   ]
  },
  {
   "cell_type": "code",
   "execution_count": 2,
   "metadata": {},
   "outputs": [],
   "source": [
    "def corrige_local_acomph():\n",
    "    local_acomph = Path(\"in_ex/acomph\")\n",
    "    print(\"Digite a data que consta no nome da planilha ACCOMPH:\")\n",
    "    dia = input('Dia: ')\n",
    "    mes = input('Mês: ')\n",
    "    ano = input('Ano: ')\n",
    "    data = dia+'.'+mes+'.'+ano\n",
    "    acomph = \"ACOMPH_\"+data+\".xls\"\n",
    "    local_acomph_ret = local_acomph / acomph\n",
    "    return local_acomph_ret"
   ]
  },
  {
   "cell_type": "code",
   "execution_count": 6,
   "metadata": {},
   "outputs": [],
   "source": [
    "def importa_bacias():\n",
    "    local = corrige_local_acomph()\n",
    "    planilha = pd.ExcelFile(local)\n",
    "    bacias = np.empty(18)\n",
    "    i=0\n",
    "    for aba in planilha.sheet_names:\n",
    "        print(aba)\n",
    "        "
   ]
  },
  {
   "cell_type": "code",
   "execution_count": 7,
   "metadata": {},
   "outputs": [
    {
     "name": "stdout",
     "output_type": "stream",
     "text": [
      "Digite a data que consta no nome da planilha ACCOMPH:\n",
      "Dia: 03\n",
      "Mês: 10\n",
      "Ano: 2019\n",
      "Grande\n",
      "Paranaíba\n",
      "Tietê\n",
      "Paranapanema\n",
      "Paraná\n",
      "Iguaçu\n",
      "Uruguai\n",
      "Jacui\n",
      "Outras Sul\n",
      "Paraguai\n",
      "Paraíba do Sul\n",
      "Doce\n",
      "Outras Sudeste\n",
      "São Francisco\n",
      "Outras Nordeste\n",
      "Tocantins\n",
      "Amazonas\n",
      "Araguari\n"
     ]
    }
   ],
   "source": [
    "importa_bacias()"
   ]
  },
  {
   "cell_type": "code",
   "execution_count": null,
   "metadata": {},
   "outputs": [],
   "source": []
  }
 ],
 "metadata": {
  "kernelspec": {
   "display_name": "Python 3",
   "language": "python",
   "name": "python3"
  },
  "language_info": {
   "codemirror_mode": {
    "name": "ipython",
    "version": 3
   },
   "file_extension": ".py",
   "mimetype": "text/x-python",
   "name": "python",
   "nbconvert_exporter": "python",
   "pygments_lexer": "ipython3",
   "version": "3.7.3"
  }
 },
 "nbformat": 4,
 "nbformat_minor": 2
}
