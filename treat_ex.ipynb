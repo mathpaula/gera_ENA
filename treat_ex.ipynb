{
 "cells": [
  {
   "cell_type": "code",
   "execution_count": 41,
   "metadata": {},
   "outputs": [],
   "source": [
    "import pandas as pd\n",
    "import numpy as np\n",
    "import matplotlib.pyplot as plt\n",
    "from pathlib import Path\n",
    "import datetime as dt"
   ]
  },
  {
   "cell_type": "markdown",
   "metadata": {},
   "source": [
    "##### Correção do nome do ACOMPH de acordo com a data"
   ]
  },
  {
   "cell_type": "code",
   "execution_count": 42,
   "metadata": {},
   "outputs": [],
   "source": [
    "\n",
    "def corrige_local_acomph():\n",
    "    #Path é uma função da biblioteca padrão do Python pathlib que acha os diretórios próprios para\n",
    "    #o sistema operacional em que o programa roda\n",
    "    local_acomph = Path(\"in_ex/acomph\")\n",
    "    data = get_data()\n",
    "    #Variável para armazenar o nome do arquivo corrigido\n",
    "    acomph = \"ACOMPH_\"+data+\".xls\"\n",
    "    #Concatenação do diretório com o nome do arquivo com o operador / do pathlib\n",
    "    local_acomph_ret = local_acomph / acomph\n",
    "    return local_acomph_ret"
   ]
  },
  {
   "cell_type": "markdown",
   "metadata": {},
   "source": [
    "### CONTROLE DE DATA"
   ]
  },
  {
   "cell_type": "code",
   "execution_count": 43,
   "metadata": {},
   "outputs": [],
   "source": [
    "def get_data():\n",
    "    data = dt.datetime.today()\n",
    "    dia = data.day\n",
    "    if dia<10:\n",
    "        dia = '0' + str(dia)\n",
    "    mes = str(data.month)\n",
    "    ano = str(data.year)\n",
    "    data = dia+'.'+mes+'.'+ano\n",
    "    return data"
   ]
  },
  {
   "cell_type": "markdown",
   "metadata": {},
   "source": [
    "#### Função de importação do arquivo do ACCOMPH"
   ]
  },
  {
   "cell_type": "code",
   "execution_count": 44,
   "metadata": {},
   "outputs": [],
   "source": [
    "def importa_planilha():\n",
    "    #Cria dicionário com todas as bacias separadas por nome\n",
    "    bacias = {}\n",
    "    local = corrige_local_acomph()\n",
    "    planilha = pd.ExcelFile(local)\n",
    "    for aba in planilha.sheet_names:\n",
    "        bacias[aba] = planilha.parse(aba)\n",
    "    return bacias"
   ]
  },
  {
   "cell_type": "code",
   "execution_count": 45,
   "metadata": {},
   "outputs": [],
   "source": [
    "def trata():\n",
    "    i=1\n",
    "    bacias = importa_planilha()\n",
    "    for x in bacias:\n",
    "        bacias[x].dropna(inplace=True)\n",
    "        bacias[x].rename(columns={'Unnamed: 0':'Data'}, inplace=True)\n",
    "        bacias[x].set_index('Data',inplace=True)\n",
    "        bacias[x] = bacias[x].T\n",
    "        titulos = bacias[x].head(154)\n",
    "        for linha in titulos.index:\n",
    "            if i%8 != 0:\n",
    "                bacias[x].drop(linha, inplace=True)\n",
    "            i+=1\n",
    "    return bacias\n"
   ]
  },
  {
   "cell_type": "code",
   "execution_count": 46,
   "metadata": {
    "scrolled": false
   },
   "outputs": [],
   "source": [
    "def busca():\n",
    "    df = trata()\n",
    "    bacia = input('Nome da bacia: ')\n",
    "    posto = int(input('Posto: '))\n",
    "    df[bacia].loc[posto].plot()"
   ]
  },
  {
   "cell_type": "code",
   "execution_count": 50,
   "metadata": {},
   "outputs": [
    {
     "name": "stdout",
     "output_type": "stream",
     "text": [
      "Nome da bacia: São Francisco\n",
      "Posto: 169\n"
     ]
    },
    {
     "data": {
      "image/png": "[encoded data removed]",
      "text/plain": [
       "<Figure size 432x288 with 1 Axes>"
      ]
     },
     "metadata": {
      "needs_background": "light"
     },
     "output_type": "display_data"
    }
   ],
   "source": [
    "busca()"
   ]
  },
  {
   "cell_type": "code",
   "execution_count": null,
   "metadata": {},
   "outputs": [],
   "source": []
  }
 ],
 "metadata": {
  "kernelspec": {
   "display_name": "Python 3",
   "language": "python",
   "name": "python3"
  }
 },
 "nbformat": 4,
 "nbformat_minor": 2
}
