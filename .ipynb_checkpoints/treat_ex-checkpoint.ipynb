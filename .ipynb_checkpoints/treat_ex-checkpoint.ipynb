{
 "cells": [
  {
   "cell_type": "code",
   "execution_count": null,
   "metadata": {},
   "outputs": [],
   "source": [
    "import pandas as pd\n",
    "import numpy as np\n",
    "import matplotlib.pyplot as plt\n",
    "from pathlib import Path"
   ]
  },
  {
   "cell_type": "markdown",
   "metadata": {},
   "source": [
    "##### Correção do nome do ACOMPH de acordo com a data"
   ]
  },
  {
   "cell_type": "code",
   "execution_count": null,
   "metadata": {},
   "outputs": [],
   "source": [
    "\n",
    "def corrige_local_acomph():\n",
    "    #Path é uma função da biblioteca padrão do Python pathlib que acha os diretórios próprios para\n",
    "    #o sistema operacional em que o programa roda\n",
    "    local_acomph = Path(\"in_ex/acomph\")\n",
    "    data = get_data()\n",
    "    #Variável para armazenar o nome do arquivo corrigido\n",
    "    acomph = \"ACOMPH_\"+data+\".xls\"\n",
    "    #Concatenação do diretório com o nome do arquivo com o operador / do pathlib\n",
    "    local_acomph_ret = local_acomph / acomph\n",
    "    return local_acomph_ret"
   ]
  },
  {
   "cell_type": "code",
   "execution_count": null,
   "metadata": {},
   "outputs": [],
   "source": [
    "def get_data():\n",
    "    print(\"Digite a data:\")\n",
    "    dia = input('Dia: ')\n",
    "    mes = input('Mês: ')\n",
    "    ano = input('Ano: ')\n",
    "    data = dia+'.'+mes+'.'+ano\n",
    "    return data"
   ]
  },
  {
   "cell_type": "markdown",
   "metadata": {},
   "source": [
    "#### Função de importação do arquivo do ACCOMPH"
   ]
  },
  {
   "cell_type": "code",
   "execution_count": null,
   "metadata": {},
   "outputs": [],
   "source": [
    "def importa_planilha():\n",
    "    #Cria dicionário com todas as bacias separadas por nome\n",
    "    bacias = {}\n",
    "    local = corrige_local_acomph()\n",
    "    planilha = pd.ExcelFile(local)\n",
    "    for aba in planilha.sheet_names:\n",
    "        bacias[aba] = planilha.parse(aba)\n",
    "    return bacias"
   ]
  },
  {
   "cell_type": "code",
   "execution_count": null,
   "metadata": {},
   "outputs": [],
   "source": [
    "def trata():\n",
    "    i=1\n",
    "    bacias = importa_planilha()\n",
    "    for x in bacias:\n",
    "        bacias[x].dropna(inplace=True)\n",
    "        bacias[x].rename(columns={'Unnamed: 0':'Data'}, inplace=True)\n",
    "        bacias[x].set_index('Data',inplace=True)\n",
    "        bacias[x] = bacias[x].T\n",
    "        titulos = bacias[x].head(154)\n",
    "        for linha in titulos.index:\n",
    "            if i%8 != 0:\n",
    "                bacias[x].drop(linha, inplace=True)\n",
    "            i+=1\n",
    "    return bacias\n"
   ]
  },
  {
   "cell_type": "code",
   "execution_count": null,
   "metadata": {
    "scrolled": false
   },
   "outputs": [],
   "source": [
    "def busca():\n",
    "    df = trata()\n",
    "    bacia = input('Nome da bacia: ')\n",
    "    posto = int(input('Posto: '))\n",
    "    df[bacia].iloc[posto].plot()\n",
    "    df[bacia][get_data]"
   ]
  },
  {
   "cell_type": "code",
   "execution_count": null,
   "metadata": {},
   "outputs": [],
   "source": [
    "busca()"
   ]
  },
  {
   "cell_type": "code",
   "execution_count": null,
   "metadata": {},
   "outputs": [],
   "source": []
  }
 ],
 "metadata": {
  "kernelspec": {
   "display_name": "Python 3",
   "language": "python",
   "name": "python3"
  },
  "language_info": {
   "codemirror_mode": {
    "name": "ipython",
    "version": 3
   },
   "file_extension": ".py",
   "mimetype": "text/x-python",
   "name": "python",
   "nbconvert_exporter": "python",
   "pygments_lexer": "ipython3",
   "version": "3.7.3"
  }
 },
 "nbformat": 4,
 "nbformat_minor": 2
}
